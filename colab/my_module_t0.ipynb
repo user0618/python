def say_hello(name):
    return f"Hello, {name}!"

def add(a, b):
    return a + b

class Greeter:
    def __init__(self, name):
        self.name = name
    
    def greet(self):
        return f"Hi, I'm {self.name}!"
